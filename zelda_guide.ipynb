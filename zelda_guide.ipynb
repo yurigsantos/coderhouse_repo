{
 "cells": [
  {
   "cell_type": "markdown",
   "metadata": {},
   "source": [
    "Projeto Final:\\\n",
    "\\\n",
    "Guia para Legend of Zelda: Breath of the Wild"
   ]
  },
  {
   "cell_type": "code",
   "execution_count": 8,
   "metadata": {},
   "outputs": [],
   "source": [
    "from plyer import notification\n",
    "from datetime import datetime\n",
    "import pandas as pd\n",
    "import requests\n",
    "import sqlite3"
   ]
  },
  {
   "cell_type": "code",
   "execution_count": 9,
   "metadata": {},
   "outputs": [],
   "source": [
    "def alerta(nivel, base, etapa):\n",
    "\n",
    "    hoje = datetime.now()\n",
    "    hoje = hoje.strftime(\"%d/%m/%Y %H:%M:%S\")\n",
    "\n",
    "    message = f'Falha no carregamento da base {base} na etapa {etapa}.\\n{hoje}'\n",
    "    \n",
    "    if nivel == 1:\n",
    "        title = 'ATENÇÃO: Alerta Baixo',\n",
    "    elif nivel == 2:\n",
    "        title = 'ATENÇÃO: Alerta Médio',\n",
    "    elif nivel == 3:\n",
    "        title = 'ATENÇÃO: Alerta Alto',\n",
    "    \n",
    "    notification.notify(\n",
    "        title = title,\n",
    "        message = message,\n",
    "        app_name = 'alerta',\n",
    "        timeout = 10\n",
    "        )"
   ]
  },
  {
   "cell_type": "markdown",
   "metadata": {},
   "source": [
    "Banco de Dados"
   ]
  },
  {
   "cell_type": "code",
   "execution_count": 10,
   "metadata": {},
   "outputs": [],
   "source": [
    "def retrieve_table():\n",
    "    conn = sqlite3.connect('zelda.db')\n",
    "    query = \"SELECT name FROM sqlite_master WHERE type='table'\"\n",
    "    schema = pd.read_sql_query(query,conn)\n",
    "\n",
    "    conn.close()\n",
    "    return schema\n",
    "\n",
    "def save_db(df,table_name):\n",
    "    conn = sqlite3.connect('zelda.db')\n",
    "    df.to_sql(table_name, conn, if_exists='replace', index=False)\n",
    "\n",
    "    conn.close()\n",
    "    return True\n",
    "\n",
    "def load_db(table_name):\n",
    "    conn = sqlite3.connect('zelda.db')\n",
    "    query = f\"SELECT * FROM {table_name}\"\n",
    "    df = pd.read_sql(query,conn)\n",
    "\n",
    "    conn.close()\n",
    "    return df"
   ]
  },
  {
   "cell_type": "markdown",
   "metadata": {},
   "source": [
    "Extração"
   ]
  },
  {
   "cell_type": "code",
   "execution_count": 11,
   "metadata": {},
   "outputs": [],
   "source": [
    "url = 'https://botw-compendium.herokuapp.com/api/v3/compendium/all'"
   ]
  },
  {
   "cell_type": "code",
   "execution_count": 12,
   "metadata": {},
   "outputs": [],
   "source": [
    "#def get_api(url):\n",
    "response = requests.get(url)\n",
    "\n",
    "if response.status_code == 200:\n",
    "    data_json = response.json()\n",
    "else:\n",
    "    print(f'Erro {response.status_code}')"
   ]
  },
  {
   "cell_type": "code",
   "execution_count": 13,
   "metadata": {},
   "outputs": [],
   "source": [
    "data_json = data_json['data']"
   ]
  },
  {
   "cell_type": "code",
   "execution_count": 14,
   "metadata": {},
   "outputs": [
    {
     "data": {
      "text/html": [
       "<div>\n",
       "<style scoped>\n",
       "    .dataframe tbody tr th:only-of-type {\n",
       "        vertical-align: middle;\n",
       "    }\n",
       "\n",
       "    .dataframe tbody tr th {\n",
       "        vertical-align: top;\n",
       "    }\n",
       "\n",
       "    .dataframe thead th {\n",
       "        text-align: right;\n",
       "    }\n",
       "</style>\n",
       "<table border=\"1\" class=\"dataframe\">\n",
       "  <thead>\n",
       "    <tr style=\"text-align: right;\">\n",
       "      <th></th>\n",
       "      <th>category</th>\n",
       "      <th>common_locations</th>\n",
       "      <th>description</th>\n",
       "      <th>dlc</th>\n",
       "      <th>drops</th>\n",
       "      <th>id</th>\n",
       "      <th>image</th>\n",
       "      <th>name</th>\n",
       "      <th>cooking_effect</th>\n",
       "      <th>hearts_recovered</th>\n",
       "      <th>properties</th>\n",
       "      <th>edible</th>\n",
       "    </tr>\n",
       "  </thead>\n",
       "  <tbody>\n",
       "    <tr>\n",
       "      <th>0</th>\n",
       "      <td>treasure</td>\n",
       "      <td>[Greater Hyrule]</td>\n",
       "      <td>This deposit contains a good deal of precious ...</td>\n",
       "      <td>False</td>\n",
       "      <td>[ruby, sapphire, diamond, amber, topaz, flint]</td>\n",
       "      <td>388</td>\n",
       "      <td>https://botw-compendium.herokuapp.com/api/v3/c...</td>\n",
       "      <td>rare ore deposit</td>\n",
       "      <td>NaN</td>\n",
       "      <td>NaN</td>\n",
       "      <td>NaN</td>\n",
       "      <td>NaN</td>\n",
       "    </tr>\n",
       "    <tr>\n",
       "      <th>1</th>\n",
       "      <td>treasure</td>\n",
       "      <td>[Greater Hyrule]</td>\n",
       "      <td>This deposit contains a good deal of ore. Brea...</td>\n",
       "      <td>False</td>\n",
       "      <td>[ruby, diamond, amber, sapphire, topaz, opal, ...</td>\n",
       "      <td>387</td>\n",
       "      <td>https://botw-compendium.herokuapp.com/api/v3/c...</td>\n",
       "      <td>ore deposit</td>\n",
       "      <td>NaN</td>\n",
       "      <td>NaN</td>\n",
       "      <td>NaN</td>\n",
       "      <td>NaN</td>\n",
       "    </tr>\n",
       "  </tbody>\n",
       "</table>\n",
       "</div>"
      ],
      "text/plain": [
       "   category  common_locations  \\\n",
       "0  treasure  [Greater Hyrule]   \n",
       "1  treasure  [Greater Hyrule]   \n",
       "\n",
       "                                         description    dlc  \\\n",
       "0  This deposit contains a good deal of precious ...  False   \n",
       "1  This deposit contains a good deal of ore. Brea...  False   \n",
       "\n",
       "                                               drops   id  \\\n",
       "0     [ruby, sapphire, diamond, amber, topaz, flint]  388   \n",
       "1  [ruby, diamond, amber, sapphire, topaz, opal, ...  387   \n",
       "\n",
       "                                               image              name  \\\n",
       "0  https://botw-compendium.herokuapp.com/api/v3/c...  rare ore deposit   \n",
       "1  https://botw-compendium.herokuapp.com/api/v3/c...       ore deposit   \n",
       "\n",
       "  cooking_effect  hearts_recovered properties edible  \n",
       "0            NaN               NaN        NaN    NaN  \n",
       "1            NaN               NaN        NaN    NaN  "
      ]
     },
     "execution_count": 14,
     "metadata": {},
     "output_type": "execute_result"
    }
   ],
   "source": [
    "#def get_botw():\n",
    "#url = 'https://botw-compendium.herokuapp.com/api/v3/compendium/all'\n",
    "#data_json = data_json['data']\n",
    "zelda_df = pd.DataFrame(data_json)\n",
    "zelda_df.head(2)"
   ]
  },
  {
   "cell_type": "code",
   "execution_count": 15,
   "metadata": {},
   "outputs": [
    {
     "data": {
      "text/html": [
       "<div>\n",
       "<style scoped>\n",
       "    .dataframe tbody tr th:only-of-type {\n",
       "        vertical-align: middle;\n",
       "    }\n",
       "\n",
       "    .dataframe tbody tr th {\n",
       "        vertical-align: top;\n",
       "    }\n",
       "\n",
       "    .dataframe thead th {\n",
       "        text-align: right;\n",
       "    }\n",
       "</style>\n",
       "<table border=\"1\" class=\"dataframe\">\n",
       "  <thead>\n",
       "    <tr style=\"text-align: right;\">\n",
       "      <th></th>\n",
       "      <th>Nome</th>\n",
       "      <th>Região</th>\n",
       "      <th>Categoria</th>\n",
       "      <th>Loot</th>\n",
       "    </tr>\n",
       "  </thead>\n",
       "  <tbody>\n",
       "    <tr>\n",
       "      <th>0</th>\n",
       "      <td>rare ore deposit</td>\n",
       "      <td>[Greater Hyrule]</td>\n",
       "      <td>treasure</td>\n",
       "      <td>[ruby, sapphire, diamond, amber, topaz, flint]</td>\n",
       "    </tr>\n",
       "    <tr>\n",
       "      <th>1</th>\n",
       "      <td>ore deposit</td>\n",
       "      <td>[Greater Hyrule]</td>\n",
       "      <td>treasure</td>\n",
       "      <td>[ruby, diamond, amber, sapphire, topaz, opal, ...</td>\n",
       "    </tr>\n",
       "    <tr>\n",
       "      <th>2</th>\n",
       "      <td>treasure chest</td>\n",
       "      <td>[Greater Hyrule]</td>\n",
       "      <td>treasure</td>\n",
       "      <td>[treasures]</td>\n",
       "    </tr>\n",
       "  </tbody>\n",
       "</table>\n",
       "</div>"
      ],
      "text/plain": [
       "               Nome            Região Categoria  \\\n",
       "0  rare ore deposit  [Greater Hyrule]  treasure   \n",
       "1       ore deposit  [Greater Hyrule]  treasure   \n",
       "2    treasure chest  [Greater Hyrule]  treasure   \n",
       "\n",
       "                                                Loot  \n",
       "0     [ruby, sapphire, diamond, amber, topaz, flint]  \n",
       "1  [ruby, diamond, amber, sapphire, topaz, opal, ...  \n",
       "2                                        [treasures]  "
      ]
     },
     "execution_count": 15,
     "metadata": {},
     "output_type": "execute_result"
    }
   ],
   "source": [
    "name = [name for name in zelda_df['name']]\n",
    "local = [loc for loc in zelda_df['common_locations']]\n",
    "category = [cat for cat in zelda_df['category']]\n",
    "loot = [drop for drop in zelda_df['drops']]\n",
    "\n",
    "items_df = pd.DataFrame({\n",
    "    'Nome': name,\n",
    "    'Região': local,\n",
    "    'Categoria': category,\n",
    "    'Loot': loot})\n",
    "items_df.head(3)"
   ]
  },
  {
   "cell_type": "code",
   "execution_count": 16,
   "metadata": {},
   "outputs": [
    {
     "data": {
      "text/html": [
       "<div>\n",
       "<style scoped>\n",
       "    .dataframe tbody tr th:only-of-type {\n",
       "        vertical-align: middle;\n",
       "    }\n",
       "\n",
       "    .dataframe tbody tr th {\n",
       "        vertical-align: top;\n",
       "    }\n",
       "\n",
       "    .dataframe thead th {\n",
       "        text-align: right;\n",
       "    }\n",
       "</style>\n",
       "<table border=\"1\" class=\"dataframe\">\n",
       "  <thead>\n",
       "    <tr style=\"text-align: right;\">\n",
       "      <th></th>\n",
       "      <th>Nome</th>\n",
       "      <th>Região</th>\n",
       "      <th>Categoria</th>\n",
       "      <th>Loot</th>\n",
       "    </tr>\n",
       "  </thead>\n",
       "  <tbody>\n",
       "    <tr>\n",
       "      <th>0</th>\n",
       "      <td>rare ore deposit</td>\n",
       "      <td>Greater Hyrule</td>\n",
       "      <td>treasure</td>\n",
       "      <td>[ruby, sapphire, diamond, amber, topaz, flint]</td>\n",
       "    </tr>\n",
       "    <tr>\n",
       "      <th>1</th>\n",
       "      <td>ore deposit</td>\n",
       "      <td>Greater Hyrule</td>\n",
       "      <td>treasure</td>\n",
       "      <td>[ruby, diamond, amber, sapphire, topaz, opal, ...</td>\n",
       "    </tr>\n",
       "    <tr>\n",
       "      <th>2</th>\n",
       "      <td>treasure chest</td>\n",
       "      <td>Greater Hyrule</td>\n",
       "      <td>treasure</td>\n",
       "      <td>[treasures]</td>\n",
       "    </tr>\n",
       "  </tbody>\n",
       "</table>\n",
       "</div>"
      ],
      "text/plain": [
       "               Nome          Região Categoria  \\\n",
       "0  rare ore deposit  Greater Hyrule  treasure   \n",
       "1       ore deposit  Greater Hyrule  treasure   \n",
       "2    treasure chest  Greater Hyrule  treasure   \n",
       "\n",
       "                                                Loot  \n",
       "0     [ruby, sapphire, diamond, amber, topaz, flint]  \n",
       "1  [ruby, diamond, amber, sapphire, topaz, opal, ...  \n",
       "2                                        [treasures]  "
      ]
     },
     "execution_count": 16,
     "metadata": {},
     "output_type": "execute_result"
    }
   ],
   "source": [
    "items_reg_exploded = items_df.explode('Região', ignore_index=True)\n",
    "items_reg_exploded.head(3)"
   ]
  },
  {
   "cell_type": "code",
   "execution_count": 17,
   "metadata": {},
   "outputs": [
    {
     "data": {
      "text/html": [
       "<div>\n",
       "<style scoped>\n",
       "    .dataframe tbody tr th:only-of-type {\n",
       "        vertical-align: middle;\n",
       "    }\n",
       "\n",
       "    .dataframe tbody tr th {\n",
       "        vertical-align: top;\n",
       "    }\n",
       "\n",
       "    .dataframe thead th {\n",
       "        text-align: right;\n",
       "    }\n",
       "</style>\n",
       "<table border=\"1\" class=\"dataframe\">\n",
       "  <thead>\n",
       "    <tr style=\"text-align: right;\">\n",
       "      <th></th>\n",
       "      <th>Nome</th>\n",
       "      <th>Região</th>\n",
       "      <th>Categoria</th>\n",
       "      <th>Loot</th>\n",
       "    </tr>\n",
       "  </thead>\n",
       "  <tbody>\n",
       "    <tr>\n",
       "      <th>0</th>\n",
       "      <td>rare ore deposit</td>\n",
       "      <td>Greater Hyrule</td>\n",
       "      <td>treasure</td>\n",
       "      <td>ruby</td>\n",
       "    </tr>\n",
       "    <tr>\n",
       "      <th>1</th>\n",
       "      <td>rare ore deposit</td>\n",
       "      <td>Greater Hyrule</td>\n",
       "      <td>treasure</td>\n",
       "      <td>sapphire</td>\n",
       "    </tr>\n",
       "    <tr>\n",
       "      <th>2</th>\n",
       "      <td>rare ore deposit</td>\n",
       "      <td>Greater Hyrule</td>\n",
       "      <td>treasure</td>\n",
       "      <td>diamond</td>\n",
       "    </tr>\n",
       "  </tbody>\n",
       "</table>\n",
       "</div>"
      ],
      "text/plain": [
       "               Nome          Região Categoria      Loot\n",
       "0  rare ore deposit  Greater Hyrule  treasure      ruby\n",
       "1  rare ore deposit  Greater Hyrule  treasure  sapphire\n",
       "2  rare ore deposit  Greater Hyrule  treasure   diamond"
      ]
     },
     "execution_count": 17,
     "metadata": {},
     "output_type": "execute_result"
    }
   ],
   "source": [
    "items_loot_exploded = items_reg_exploded.explode('Loot', ignore_index=True)\n",
    "items_loot = items_loot_exploded.dropna()\n",
    "items_loot.head(3)"
   ]
  },
  {
   "cell_type": "code",
   "execution_count": 18,
   "metadata": {},
   "outputs": [
    {
     "data": {
      "text/html": [
       "<div>\n",
       "<style scoped>\n",
       "    .dataframe tbody tr th:only-of-type {\n",
       "        vertical-align: middle;\n",
       "    }\n",
       "\n",
       "    .dataframe tbody tr th {\n",
       "        vertical-align: top;\n",
       "    }\n",
       "\n",
       "    .dataframe thead th {\n",
       "        text-align: right;\n",
       "    }\n",
       "</style>\n",
       "<table border=\"1\" class=\"dataframe\">\n",
       "  <thead>\n",
       "    <tr style=\"text-align: right;\">\n",
       "      <th></th>\n",
       "      <th>Nome</th>\n",
       "      <th>Região</th>\n",
       "      <th>Categoria</th>\n",
       "      <th>Loot</th>\n",
       "    </tr>\n",
       "  </thead>\n",
       "  <tbody>\n",
       "    <tr>\n",
       "      <th>0</th>\n",
       "      <td>rare ore deposit</td>\n",
       "      <td>[Greater Hyrule]</td>\n",
       "      <td>treasure</td>\n",
       "      <td>[ruby, sapphire, diamond, amber, topaz, flint]</td>\n",
       "    </tr>\n",
       "    <tr>\n",
       "      <th>1</th>\n",
       "      <td>ore deposit</td>\n",
       "      <td>[Greater Hyrule]</td>\n",
       "      <td>treasure</td>\n",
       "      <td>[ruby, diamond, amber, sapphire, topaz, opal, ...</td>\n",
       "    </tr>\n",
       "    <tr>\n",
       "      <th>2</th>\n",
       "      <td>treasure chest</td>\n",
       "      <td>[Greater Hyrule]</td>\n",
       "      <td>treasure</td>\n",
       "      <td>[treasures]</td>\n",
       "    </tr>\n",
       "    <tr>\n",
       "      <th>3</th>\n",
       "      <td>luminous ore deposit</td>\n",
       "      <td>[Greater Hyrule]</td>\n",
       "      <td>treasure</td>\n",
       "      <td>[luminous, flint]</td>\n",
       "    </tr>\n",
       "    <tr>\n",
       "      <th>4</th>\n",
       "      <td>dinraal</td>\n",
       "      <td>[Eldin Mountains, Tabantha Frontier]</td>\n",
       "      <td>monsters</td>\n",
       "      <td>None</td>\n",
       "    </tr>\n",
       "  </tbody>\n",
       "</table>\n",
       "</div>"
      ],
      "text/plain": [
       "                   Nome                                Região Categoria  \\\n",
       "0      rare ore deposit                      [Greater Hyrule]  treasure   \n",
       "1           ore deposit                      [Greater Hyrule]  treasure   \n",
       "2        treasure chest                      [Greater Hyrule]  treasure   \n",
       "3  luminous ore deposit                      [Greater Hyrule]  treasure   \n",
       "4               dinraal  [Eldin Mountains, Tabantha Frontier]  monsters   \n",
       "\n",
       "                                                Loot  \n",
       "0     [ruby, sapphire, diamond, amber, topaz, flint]  \n",
       "1  [ruby, diamond, amber, sapphire, topaz, opal, ...  \n",
       "2                                        [treasures]  \n",
       "3                                  [luminous, flint]  \n",
       "4                                               None  "
      ]
     },
     "execution_count": 18,
     "metadata": {},
     "output_type": "execute_result"
    }
   ],
   "source": [
    "items_df.head(5)"
   ]
  },
  {
   "cell_type": "code",
   "execution_count": 19,
   "metadata": {},
   "outputs": [
    {
     "data": {
      "text/html": [
       "<div>\n",
       "<style scoped>\n",
       "    .dataframe tbody tr th:only-of-type {\n",
       "        vertical-align: middle;\n",
       "    }\n",
       "\n",
       "    .dataframe tbody tr th {\n",
       "        vertical-align: top;\n",
       "    }\n",
       "\n",
       "    .dataframe thead th {\n",
       "        text-align: right;\n",
       "    }\n",
       "</style>\n",
       "<table border=\"1\" class=\"dataframe\">\n",
       "  <thead>\n",
       "    <tr style=\"text-align: right;\">\n",
       "      <th>Cura</th>\n",
       "      <th>0.0</th>\n",
       "      <th>0.5</th>\n",
       "      <th>1.0</th>\n",
       "      <th>2.0</th>\n",
       "      <th>2.5</th>\n",
       "      <th>3.0</th>\n",
       "      <th>4.0</th>\n",
       "      <th>5.0</th>\n",
       "    </tr>\n",
       "    <tr>\n",
       "      <th>Nome</th>\n",
       "      <th></th>\n",
       "      <th></th>\n",
       "      <th></th>\n",
       "      <th></th>\n",
       "      <th></th>\n",
       "      <th></th>\n",
       "      <th></th>\n",
       "      <th></th>\n",
       "    </tr>\n",
       "  </thead>\n",
       "  <tbody>\n",
       "    <tr>\n",
       "      <th>apple</th>\n",
       "      <td></td>\n",
       "      <td></td>\n",
       "      <td></td>\n",
       "      <td></td>\n",
       "      <td></td>\n",
       "      <td></td>\n",
       "      <td></td>\n",
       "      <td></td>\n",
       "    </tr>\n",
       "    <tr>\n",
       "      <th>armoranth</th>\n",
       "      <td>defense up</td>\n",
       "      <td></td>\n",
       "      <td></td>\n",
       "      <td></td>\n",
       "      <td></td>\n",
       "      <td></td>\n",
       "      <td></td>\n",
       "      <td></td>\n",
       "    </tr>\n",
       "    <tr>\n",
       "      <th>armored carp</th>\n",
       "      <td></td>\n",
       "      <td></td>\n",
       "      <td>defense up</td>\n",
       "      <td></td>\n",
       "      <td></td>\n",
       "      <td></td>\n",
       "      <td></td>\n",
       "      <td></td>\n",
       "    </tr>\n",
       "  </tbody>\n",
       "</table>\n",
       "</div>"
      ],
      "text/plain": [
       "Cura                 0.0 0.5         1.0 2.0 2.5 3.0 4.0 5.0\n",
       "Nome                                                        \n",
       "apple                                                       \n",
       "armoranth     defense up                                    \n",
       "armored carp                  defense up                    "
      ]
     },
     "execution_count": 19,
     "metadata": {},
     "output_type": "execute_result"
    }
   ],
   "source": [
    "effect = [fx for fx in zelda_df['cooking_effect']]\n",
    "heal = [heal for heal in zelda_df['hearts_recovered']]\n",
    "\n",
    "effect_df = pd.DataFrame({\n",
    "    'Nome': name,\n",
    "    'Efeito': effect,\n",
    "    'Cura': heal}).dropna()\n",
    "\n",
    "\n",
    "effect_pivot = effect_df.pivot(index='Nome', columns='Cura', values='Efeito').fillna('')\n",
    "effect_pivot.head(3)"
   ]
  },
  {
   "cell_type": "code",
   "execution_count": 20,
   "metadata": {},
   "outputs": [
    {
     "data": {
      "text/plain": [
       "Efeito\n",
       "extra hearts        9\n",
       "                    8\n",
       "attack up           7\n",
       "defense up          7\n",
       "speed up            6\n",
       "heat resistance     6\n",
       "stamina recovery    6\n",
       "stealth up          6\n",
       "cold resistance     6\n",
       "shock resistance    6\n",
       "extra stamina       3\n",
       "flame guard         2\n",
       "Name: count, dtype: int64"
      ]
     },
     "execution_count": 20,
     "metadata": {},
     "output_type": "execute_result"
    }
   ],
   "source": [
    "effect_df['Efeito'].value_counts()"
   ]
  },
  {
   "cell_type": "code",
   "execution_count": 21,
   "metadata": {},
   "outputs": [
    {
     "data": {
      "text/html": [
       "<div>\n",
       "<style scoped>\n",
       "    .dataframe tbody tr th:only-of-type {\n",
       "        vertical-align: middle;\n",
       "    }\n",
       "\n",
       "    .dataframe tbody tr th {\n",
       "        vertical-align: top;\n",
       "    }\n",
       "\n",
       "    .dataframe thead th {\n",
       "        text-align: right;\n",
       "    }\n",
       "</style>\n",
       "<table border=\"1\" class=\"dataframe\">\n",
       "  <thead>\n",
       "    <tr style=\"text-align: right;\">\n",
       "      <th>category</th>\n",
       "      <th>creatures</th>\n",
       "      <th>equipment</th>\n",
       "      <th>materials</th>\n",
       "      <th>monsters</th>\n",
       "      <th>treasure</th>\n",
       "    </tr>\n",
       "    <tr>\n",
       "      <th>id</th>\n",
       "      <th></th>\n",
       "      <th></th>\n",
       "      <th></th>\n",
       "      <th></th>\n",
       "      <th></th>\n",
       "    </tr>\n",
       "  </thead>\n",
       "  <tbody>\n",
       "    <tr>\n",
       "      <th>1</th>\n",
       "      <td>horse</td>\n",
       "      <td></td>\n",
       "      <td></td>\n",
       "      <td></td>\n",
       "      <td></td>\n",
       "    </tr>\n",
       "    <tr>\n",
       "      <th>2</th>\n",
       "      <td>giant horse</td>\n",
       "      <td></td>\n",
       "      <td></td>\n",
       "      <td></td>\n",
       "      <td></td>\n",
       "    </tr>\n",
       "    <tr>\n",
       "      <th>3</th>\n",
       "      <td>white horse</td>\n",
       "      <td></td>\n",
       "      <td></td>\n",
       "      <td></td>\n",
       "      <td></td>\n",
       "    </tr>\n",
       "  </tbody>\n",
       "</table>\n",
       "</div>"
      ],
      "text/plain": [
       "category    creatures equipment materials monsters treasure\n",
       "id                                                         \n",
       "1               horse                                      \n",
       "2         giant horse                                      \n",
       "3         white horse                                      "
      ]
     },
     "execution_count": 21,
     "metadata": {},
     "output_type": "execute_result"
    }
   ],
   "source": [
    "df_pivot = zelda_df.pivot(index='id', columns='category', values='name')\n",
    "df_pivot.fillna('').head(3)"
   ]
  },
  {
   "cell_type": "code",
   "execution_count": 22,
   "metadata": {},
   "outputs": [
    {
     "data": {
      "text/plain": [
       "'ore deposit'"
      ]
     },
     "execution_count": 22,
     "metadata": {},
     "output_type": "execute_result"
    }
   ],
   "source": [
    "df_pivot.loc[387, 'treasure']"
   ]
  },
  {
   "cell_type": "code",
   "execution_count": 23,
   "metadata": {},
   "outputs": [
    {
     "data": {
      "text/plain": [
       "'ore deposit'"
      ]
     },
     "execution_count": 23,
     "metadata": {},
     "output_type": "execute_result"
    }
   ],
   "source": [
    "df_pivot.iloc[386, 4]"
   ]
  },
  {
   "cell_type": "code",
   "execution_count": 24,
   "metadata": {},
   "outputs": [
    {
     "data": {
      "text/plain": [
       "id\n",
       "1          horse\n",
       "2    giant horse\n",
       "Name: creatures, dtype: object"
      ]
     },
     "execution_count": 24,
     "metadata": {},
     "output_type": "execute_result"
    }
   ],
   "source": [
    "df_pivot['creatures'].dropna().head(2)"
   ]
  },
  {
   "cell_type": "code",
   "execution_count": 25,
   "metadata": {},
   "outputs": [
    {
     "data": {
      "text/plain": [
       "id\n",
       "201    master sword\n",
       "202     tree branch\n",
       "Name: equipment, dtype: object"
      ]
     },
     "execution_count": 25,
     "metadata": {},
     "output_type": "execute_result"
    }
   ],
   "source": [
    "df_pivot['equipment'].dropna().head(2)"
   ]
  },
  {
   "cell_type": "code",
   "execution_count": 26,
   "metadata": {},
   "outputs": [
    {
     "data": {
      "text/plain": [
       "id\n",
       "165         apple\n",
       "166    palm fruit\n",
       "Name: materials, dtype: object"
      ]
     },
     "execution_count": 26,
     "metadata": {},
     "output_type": "execute_result"
    }
   ],
   "source": [
    "df_pivot['materials'].dropna().head(2)"
   ]
  },
  {
   "cell_type": "code",
   "execution_count": 27,
   "metadata": {},
   "outputs": [
    {
     "data": {
      "text/plain": [
       "id\n",
       "84         chuchu\n",
       "85    fire chuchu\n",
       "Name: monsters, dtype: object"
      ]
     },
     "execution_count": 27,
     "metadata": {},
     "output_type": "execute_result"
    }
   ],
   "source": [
    "df_pivot['monsters'].dropna().head(2)"
   ]
  },
  {
   "cell_type": "code",
   "execution_count": 28,
   "metadata": {},
   "outputs": [
    {
     "data": {
      "text/plain": [
       "id\n",
       "386    treasure chest\n",
       "387       ore deposit\n",
       "Name: treasure, dtype: object"
      ]
     },
     "execution_count": 28,
     "metadata": {},
     "output_type": "execute_result"
    }
   ],
   "source": [
    "df_pivot['treasure'].dropna().head(2)"
   ]
  }
 ],
 "metadata": {
  "kernelspec": {
   "display_name": "Python 3",
   "language": "python",
   "name": "python3"
  },
  "language_info": {
   "codemirror_mode": {
    "name": "ipython",
    "version": 3
   },
   "file_extension": ".py",
   "mimetype": "text/x-python",
   "name": "python",
   "nbconvert_exporter": "python",
   "pygments_lexer": "ipython3",
   "version": "3.12.1"
  }
 },
 "nbformat": 4,
 "nbformat_minor": 2
}
